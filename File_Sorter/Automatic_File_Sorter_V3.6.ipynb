{
 "cells": [
  {
   "cell_type": "markdown",
   "id": "a4386945-409c-448e-afd9-4d579efa2ea4",
   "metadata": {},
   "source": [
    "# Automatic File Sorter\n",
    "\n"
   ]
  },
  {
   "cell_type": "markdown",
   "id": "66c23aea-a122-4eaa-80ec-2b0186aebe35",
   "metadata": {},
   "source": [
    "This is automatic file sorter moves files from one directory to the prefered destination.\n",
    "\n",
    "<ins>Checks</ins> for errors:\n",
    "\n",
    "- If *files* and *folders* created already exist in the directories.\n",
    "- Permission errors.\n",
    "- *Files* being used by another process."
   ]
  },
  {
   "cell_type": "code",
   "execution_count": 3,
   "id": "bd446f66-1e3f-4751-a21b-82a209a0faa9",
   "metadata": {},
   "outputs": [],
   "source": [
    "import os, shutil, logging, time"
   ]
  },
  {
   "cell_type": "code",
   "execution_count": 4,
   "id": "9fff3190-0827-4948-9766-8588f7274443",
   "metadata": {},
   "outputs": [],
   "source": [
    "path = r\"C:/Users/conva/Downloads/\""
   ]
  },
  {
   "cell_type": "markdown",
   "id": "267ffad2-d9ca-4cd6-beae-122e4bd6d417",
   "metadata": {},
   "source": [
    "### Set up logging"
   ]
  },
  {
   "cell_type": "code",
   "execution_count": 6,
   "id": "f68df7d1-f679-452f-9ba8-a852f4bc0002",
   "metadata": {},
   "outputs": [],
   "source": [
    "logging.basicConfig(level=logging.INFO, format='%(asctime)s - %(levelname)s - %(message)s')"
   ]
  },
  {
   "cell_type": "markdown",
   "id": "dc1bfe9c-1c7b-4254-bdab-836750ffec50",
   "metadata": {},
   "source": [
    "### Destination paths"
   ]
  },
  {
   "cell_type": "code",
   "execution_count": 8,
   "id": "5bfdd4e7-d70b-494e-9d00-bcf299ce2a22",
   "metadata": {},
   "outputs": [],
   "source": [
    "downloads_path = r\"C:\\Users\\conva\\Downloads\" "
   ]
  },
  {
   "cell_type": "code",
   "execution_count": 9,
   "id": "3d8f2353-7ff2-4e23-8917-7cda1df9117e",
   "metadata": {},
   "outputs": [],
   "source": [
    "destination_path = os.path.expanduser(\"~/Documents/_SortedFiles\")"
   ]
  },
  {
   "cell_type": "markdown",
   "id": "59c41d8b-72a4-4f78-9a11-236530d77a42",
   "metadata": {},
   "source": [
    "### Defining folders\n",
    "\n",
    "Can be edited to *add* or *remove* files"
   ]
  },
  {
   "cell_type": "code",
   "execution_count": 11,
   "id": "127f6640-b01e-45dc-abc8-ea57999d50ec",
   "metadata": {},
   "outputs": [],
   "source": [
    "folders = {\n",
    "    'Images': ('.png', '.jpg', '.jpeg'),\n",
    "    'Videos': ('.mp4', '.mov', '.avi'),\n",
    "    'GIFs': ('.gif',),\n",
    "    'Documents': ('.pdf', '.docx', '.txt'),\n",
    "    'Audio': ('.mp3', '.wav', '.ogg'),\n",
    "    'Installers': ('.exe', '.msi', '.zip', '.rar'),\n",
    "    'CSV': ('.csv',),\n",
    "    'Scripts': ('.py', '.sh', '.bat', '.ps1', '.js', '.rb', '.php'),\n",
    "    'JNotebooks': ('.ipynb',)\n",
    "}"
   ]
  },
  {
   "cell_type": "markdown",
   "id": "35f47d08-7449-4f7f-a99c-b1f1b4e0b09a",
   "metadata": {},
   "source": [
    "### Creating the folders"
   ]
  },
  {
   "cell_type": "markdown",
   "id": "d608059a-9f82-409e-9a33-8280c80b11b3",
   "metadata": {},
   "source": [
    "Only if they don't exist"
   ]
  },
  {
   "cell_type": "code",
   "execution_count": 14,
   "id": "9d76555b-50ab-4b2e-a351-3bbe5820b31a",
   "metadata": {},
   "outputs": [
    {
     "name": "stderr",
     "output_type": "stream",
     "text": [
      "2024-09-16 21:55:14,040 - INFO - Ensured existence of directory: C:\\Users\\conva/Documents/_SortedFiles\\Images\n",
      "2024-09-16 21:55:14,043 - INFO - Ensured existence of directory: C:\\Users\\conva/Documents/_SortedFiles\\Videos\n",
      "2024-09-16 21:55:14,043 - INFO - Ensured existence of directory: C:\\Users\\conva/Documents/_SortedFiles\\GIFs\n",
      "2024-09-16 21:55:14,044 - INFO - Ensured existence of directory: C:\\Users\\conva/Documents/_SortedFiles\\Documents\n",
      "2024-09-16 21:55:14,045 - INFO - Ensured existence of directory: C:\\Users\\conva/Documents/_SortedFiles\\Audio\n",
      "2024-09-16 21:55:14,045 - INFO - Ensured existence of directory: C:\\Users\\conva/Documents/_SortedFiles\\Installers\n",
      "2024-09-16 21:55:14,046 - INFO - Ensured existence of directory: C:\\Users\\conva/Documents/_SortedFiles\\CSV\n",
      "2024-09-16 21:55:14,047 - INFO - Ensured existence of directory: C:\\Users\\conva/Documents/_SortedFiles\\Scripts\n"
     ]
    }
   ],
   "source": [
    "for folder in folders:\n",
    "    folder_path = os.path.join(destination_path, folder)\n",
    "    try:\n",
    "        os.makedirs(folder_path, exist_ok=True)  # Create folders if they do not exist\n",
    "        logging.info(f\"Ensured existence of directory: {folder_path}\")\n",
    "    except Exception as e:\n",
    "        logging.error(f\"Error creating directory {folder_path}: {e}\")"
   ]
  },
  {
   "cell_type": "markdown",
   "id": "58c80f8d-938f-492a-bb9c-e5d67c2f79a7",
   "metadata": {},
   "source": [
    "#### List of files in the directory"
   ]
  },
  {
   "cell_type": "code",
   "execution_count": 16,
   "id": "f29976d4-e9c5-4e04-b1d0-29220684406b",
   "metadata": {},
   "outputs": [],
   "source": [
    "file_names = os.listdir(downloads_path)"
   ]
  },
  {
   "cell_type": "markdown",
   "id": "dee27616-2b88-4b4f-b6dc-6bd43b89d516",
   "metadata": {},
   "source": [
    "### Transferring files"
   ]
  },
  {
   "cell_type": "markdown",
   "id": "4505c7d2-ce66-4450-8bf8-580214c6d88b",
   "metadata": {},
   "source": [
    "Only if they are not already in the folder"
   ]
  },
  {
   "cell_type": "code",
   "execution_count": 19,
   "id": "91c2764f-9fa9-4e78-bc8f-2c61af0077d4",
   "metadata": {},
   "outputs": [],
   "source": [
    "# Initialize count of moved files\n",
    "files_moved = 0"
   ]
  },
  {
   "cell_type": "code",
   "execution_count": 20,
   "id": "e2d815a2-133c-4165-bcac-0a4202bd67ae",
   "metadata": {},
   "outputs": [
    {
     "name": "stderr",
     "output_type": "stream",
     "text": [
      "2024-09-16 21:55:14,095 - INFO - Moved: Automatic_File_Sorter_V3.5.py to Scripts\n"
     ]
    }
   ],
   "source": [
    "# Transferring files\n",
    "for file in file_names:\n",
    "    source = os.path.join(downloads_path, file)\n",
    "    \n",
    "    # Skip directories (folders)\n",
    "    if os.path.isdir(source):\n",
    "        continue\n",
    "    \n",
    "    for folder, extensions in folders.items():\n",
    "        if file.lower().endswith(extensions):\n",
    "            destination = os.path.join(destination_path, folder, file) \n",
    "            \n",
    "            # Attempt to move the file with retries\n",
    "            max_retries = 3\n",
    "            retry_count = 0\n",
    "            \n",
    "            while retry_count < max_retries:\n",
    "                try:\n",
    "                    if not os.path.exists(destination):\n",
    "                        shutil.move(source, destination)\n",
    "                        logging.info(f\"Moved: {file} to {folder}\")\n",
    "                        files_moved += 1\n",
    "                    else:\n",
    "                        logging.warning(f\"File already exists: {destination}. Skipping.\")\n",
    "                    break  # Exit the loop if successful\n",
    "                except PermissionError as e:\n",
    "                    retry_count += 1\n",
    "                    logging.error(f\"Permission error moving file {file} to {folder}: {e}. File might be in use. Retrying {retry_count}/{max_retries}.\")\n",
    "                    time.sleep(60)  # Wait 1 minute before retrying\n",
    "                except Exception as e:\n",
    "                    logging.error(f\"Error moving file {file} to {folder}: {e}\")\n",
    "                    break  # Exit on other exceptions\n",
    "            break  # Stop checking other folders once a match is found"
   ]
  },
  {
   "cell_type": "markdown",
   "id": "d32c357b-28b6-4948-98b3-e4592e07a369",
   "metadata": {},
   "source": [
    "### Summary of operations"
   ]
  },
  {
   "cell_type": "code",
   "execution_count": 22,
   "id": "c345108f-950a-417c-8137-09c8a1beb5dc",
   "metadata": {
    "scrolled": true
   },
   "outputs": [
    {
     "name": "stderr",
     "output_type": "stream",
     "text": [
      "2024-09-16 21:55:14,113 - INFO - Total files moved: 1\n"
     ]
    }
   ],
   "source": [
    "logging.info(f\"Total files moved: {files_moved}\")"
   ]
  }
 ],
 "metadata": {
  "kernelspec": {
   "display_name": "Python 3 (ipykernel)",
   "language": "python",
   "name": "python3"
  },
  "language_info": {
   "codemirror_mode": {
    "name": "ipython",
    "version": 3
   },
   "file_extension": ".py",
   "mimetype": "text/x-python",
   "name": "python",
   "nbconvert_exporter": "python",
   "pygments_lexer": "ipython3",
   "version": "3.12.4"
  }
 },
 "nbformat": 4,
 "nbformat_minor": 5
}
